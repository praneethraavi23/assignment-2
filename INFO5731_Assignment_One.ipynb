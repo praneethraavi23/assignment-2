{
 "cells": [
  {
   "cell_type": "markdown",
   "metadata": {
    "colab_type": "text",
    "id": "view-in-github"
   },
   "source": [
    "<a href=\"https://colab.research.google.com/github/unt-iialab/INFO5731_Spring2020/blob/master/Assignments/INFO5731_Assignment_One.ipynb\" target=\"_parent\"><img src=\"https://colab.research.google.com/assets/colab-badge.svg\" alt=\"Open In Colab\"/></a>"
   ]
  },
  {
   "cell_type": "markdown",
   "metadata": {
    "colab_type": "text",
    "id": "Ryk8D1Q4Wsrp"
   },
   "source": [
    "# **INFO5731 Assignment One**"
   ]
  },
  {
   "cell_type": "markdown",
   "metadata": {
    "colab_type": "text",
    "id": "90_NR8c5XGWc"
   },
   "source": [
    "# Question 1\n",
    "\n",
    "(20 points). Write a Python program to generate 12 random numbers between 1 and 100. Sort the list of numbers in ascending order and print it out. Sort the list of numbers in descending order and print it out. Calculate the average for the group and print it out."
   ]
  },
  {
   "cell_type": "code",
   "execution_count": 32,
   "metadata": {
    "colab": {},
    "colab_type": "code",
    "id": "5QX6bJjGWXY9"
   },
   "outputs": [
    {
     "name": "stdout",
     "output_type": "stream",
     "text": [
      "[53, 47, 88, 84, 72, 12, 61, 1, 35, 81, 58, 2]\n",
      "[1, 2, 12, 35, 47, 53, 58, 61, 72, 81, 84, 88]\n",
      "[88, 84, 81, 72, 61, 58, 53, 47, 35, 12, 2, 1]\n",
      "the average of numbers is  49.5\n"
     ]
    }
   ],
   "source": [
    "# Your code here\n",
    "import random\n",
    "my_list=[]\n",
    "for numeric in range(0,12):\n",
    "    random_numbers=random.randint(1,99)\n",
    "    my_list.append(random_numbers)\n",
    "print(my_list)\n",
    "my_list.sort()\n",
    "print(my_list)\n",
    "my_list.sort(reverse=True)\n",
    "print(my_list)\n",
    "average=sum(my_list)/len(my_list)\n",
    "print(\"the average of numbers is \",round(average, 2))\n"
   ]
  },
  {
   "cell_type": "markdown",
   "metadata": {
    "colab_type": "text",
    "id": "1F_PZdH9Sh49"
   },
   "source": [
    "# Question 2\n",
    "(25 points). Write a program that will do the following string formatting tasks:\n",
    "\n",
    "(1) Ask the user to enter two sentences.\n",
    "\n",
    "(2) Make each sentence into a list. Each element in the list should correspond to a word in the sentence. For example, if the sentence is \"Alas! Am I alive? This is my first python program\", the program should print out ['Alas, '!', 'Am', 'I', 'alive, '?', 'This', 'is', 'my', 'first', 'python', 'program'].\n",
    "\n",
    "(3) Compare the two sentences. Print out a list of words that occur in both sentences.\n",
    "\n",
    "(4) Remove any punctuation from the sentence and print it back out. It should remove at least the following characters, but it can remove more: period(“.”), comma (“,”), semicolon (“;”), and colon (“:”)\n",
    "\n",
    "(5) Count the number of vowels in the sentences. Print out each vowel and the number of times it appears in the sentences, such as: a:2, e:1, i:0, etc"
   ]
  },
  {
   "cell_type": "code",
   "execution_count": 12,
   "metadata": {
    "colab": {},
    "colab_type": "code",
    "id": "Y0oOSlsOS0cq",
    "scrolled": true
   },
   "outputs": [
    {
     "name": "stdout",
     "output_type": "stream",
     "text": [
      "Hai , I am Praneeth . I Am From India .\n",
      "I Am Learning Python Programing .\n",
      "Sentence 1 as list: ['Hai', ',', 'I', 'am', 'Praneeth', '.', 'I', 'Am', 'From', 'India', '.']\n",
      "Sentence 2 as list: ['I', 'Am', 'Learning', 'Python', 'Programing', '.']\n",
      "The sentences without the punctuation marks are: Hai I am Praneeth I Am From India , I Am Learning Python Programing\n",
      "The comman words in the sentences are: I I Am\n",
      "The number of vowels in the sentence 1 is : 13\n",
      "The number of vowels in the sentence 2 is : 9\n",
      "The number of vowels in sentence 1 are:\n",
      "a : 5\n",
      "e : 2\n",
      "i : 5\n",
      "o : 1\n",
      "u : 0\n"
     ]
    }
   ],
   "source": [
    "# Your code here\n",
    "n1=input().split()\n",
    "n2=input().split()\n",
    "print(\"Sentence 1 as list:\",n1)\n",
    "print(\"Sentence 2 as list:\",n2)\n",
    "x1=[x for x in n1 if x.isalpha()]\n",
    "x2=[x for x in n2 if x.isalpha()]\n",
    "print('The sentences without the punctuation marks are:',*x1,\",\",*x2)\n",
    "k=[]\n",
    "for i in range(len(x1)):\n",
    "    for j in range(len(x2)):\n",
    "        if x1[i]==x2[j]:\n",
    "            k.append(x1[i])\n",
    "print(\"The comman words in the sentences are:\",*k)\n",
    "vowels=['a','e','i','o','u']\n",
    "v1=[]\n",
    "v2=[]\n",
    "for i in x1:\n",
    "    for j in range(len(i)):\n",
    "        if i[j].casefold() in vowels:\n",
    "            v1.append(i[j])\n",
    "for i in x2:\n",
    "    for j in range(len(i)):\n",
    "        if i[j].casefold() in vowels:\n",
    "            v2.append(i[j])\n",
    "print(\"The number of vowels in the sentence 1 is :\",len(v1))\n",
    "print(\"The number of vowels in the sentence 2 is :\",len(v2))\n",
    "s1=set(v1)\n",
    "l1=list(s1)\n",
    "print(\"The number of vowels in sentence 1 are:\")\n",
    "v3=[x.casefold()for x in v1]\n",
    "for i in range (len(vowels)):\n",
    "    print(vowels[i],\":\",v3.count(vowels[i]))\n",
    "\n",
    "        \n"
   ]
  },
  {
   "cell_type": "markdown",
   "metadata": {
    "colab_type": "text",
    "id": "CmFoI4jDS9nx"
   },
   "source": [
    "# Question 3 \n",
    "\n",
    "(15 points). The formula that describes the volume V of a sphere with radius r is the following:\n",
    "\n",
    "$ V=\\frac{4}{3}\\ast\\ \\pi\\ast\\ r^3 $\n",
    "\n",
    "Write a program to calculate the value of V when r is in the range of 1–10. Output the result in the following format:\n",
    "\n",
    "\tr\tV\n",
    "\t1\t…\n",
    "\t2\t…\n",
    "\t3\t…\n"
   ]
  },
  {
   "cell_type": "code",
   "execution_count": 43,
   "metadata": {
    "colab": {},
    "colab_type": "code",
    "id": "pEyqeioAT95b",
    "scrolled": false
   },
   "outputs": [
    {
     "name": "stdout",
     "output_type": "stream",
     "text": [
      "r V\n",
      "1 4.1866666666666665\n",
      "2 33.49333333333333\n",
      "3 113.03999999999998\n",
      "4 267.94666666666666\n",
      "5 523.3333333333334\n",
      "6 904.3199999999998\n",
      "7 1436.0266666666666\n",
      "8 2143.5733333333333\n",
      "9 3052.08\n",
      "10 4186.666666666667\n"
     ]
    }
   ],
   "source": [
    "# Your code here\n",
    "import numbers\n",
    "pi=3.14\n",
    "print(\"r\",\"V\")\n",
    "for i in range(1,11):\n",
    "    r= i\n",
    "    V=(4/3)*pi*r*r*r\n",
    "    print(r,V)\n",
    "    "
   ]
  },
  {
   "cell_type": "markdown",
   "metadata": {
    "colab_type": "text",
    "id": "z3tBE7E-Xn5X"
   },
   "source": [
    "# Question 4\n",
    "\n",
    "(40 points). In the field of Data Science, data is often formatted as a comma-delimited (CSV) file, where each line in a file corresponds to a field's value. Refer to Chapter 9 (p. 106) for more information on comma-delimited files. To answer this question, you will need to download the file [Assignment1_denton_housing.csv](https://raw.githubusercontent.com/unt-iialab/info5731-spring2022/main/assignments/Assignment1_denton_housing.csv) included with this assignment. The file [Assignment1_denton_housing.csv](https://raw.githubusercontent.com/unt-iialab/info5731-spring2022/main/assignments/Assignment1_denton_housing.csv) contains statistics about housing in the city of Denton from 2008 to 2014. Write a program to implement the following questions.\n",
    "\n",
    "(1) (10 pts) Calculate the difference in the number of Occupied Housing Units from year to year and print it. The difference must be calculated for the consecutive years such as 2008-2009, 2009-2010 etc. Finally, print the values in the ascending order.\n",
    "\n",
    "(2) (10 pts) For all the years, calculate the percentage of housing units which are vacant an occupied. Print the results in the following format:\n",
    "\n",
    "Year Vacant Housing Units Occupied Housing Units\n",
    "\n",
    "    2008  30%   70%                          \n",
    "\t2009 ----- -----\n",
    "\t2010 ----- -----\n",
    "    2011 ----- -----\n",
    "\t2012 ----- -----\n",
    "    2013 ----- -----\n",
    "\t2014 ----- -----\n",
    "  \n",
    "  \n",
    "\n",
    "(3) (10 pts) Calculate and print the valued and years in which the highest number of housing units were vacant and occupied. Print the results in the following format:  \n",
    "\n",
    "                              Year\tValue\n",
    "\tVacant Housing Units\t  -----   -----\n",
    "\tOccupied Housing Units\t-----   -----\n",
    "\n",
    "(4) (10 pts) Calculate the harmonic mean of the total housing units and print it out. You can find the information about harmonic mean here: https://ncalculators.com/statistics/harmonic-mean-calculator.htm"
   ]
  },
  {
   "cell_type": "code",
   "execution_count": 14,
   "metadata": {
    "colab": {},
    "colab_type": "code",
    "id": "lqGYuHBhcsRH"
   },
   "outputs": [
    {
     "name": "stdout",
     "output_type": "stream",
     "text": [
      "   year             title_field  value\n",
      "1  2014    Vacant Housing Units   2814\n",
      "2  2014  Occupied Housing Units  46295\n",
      "2014 - 2013 2622\n",
      "2013 - 2012 1565\n",
      "2012 - 2011 1404\n",
      "2011 - 2010 -303\n",
      "2010 - 2009 5091\n",
      "2009 - 2008 -795\n",
      "\n",
      "\n",
      "The difference in Ascending order is: \n",
      "2011 - 2011 303\n",
      "2009 - 2009 795\n",
      "2012 - 2012 1404\n",
      "2013 - 2013 1565\n",
      "2014 - 2014 2622\n",
      "2010 - 2010 5091\n",
      "     Occupied                 Vacant\n",
      "2014 94.26988942963611 % 5.730110570363885 %\n",
      "2013 91.19821249582358 % 8.801787504176412 %\n",
      "2012 93.32239976950866 % 6.677600230491346 %\n",
      "2011 90.6204777701093 % 9.379522229890688 %\n",
      "2010 91.85744366291833 % 8.142556337081672 %\n",
      "2009 90.92888427555128 % 9.07111572444872 %\n",
      "2008 89.11734718648347 % 10.88265281351653 %\n",
      "                       Year Value\n",
      "Occupied Housing Units 46295 2014\n",
      "Vacant Housing Units 4483 2008\n"
     ]
    }
   ],
   "source": [
    "# Your code here\n",
    "import pandas as pd\n",
    "import statistics\n",
    "data=pd.read_csv('Assignment1_denton_housing.csv')\n",
    "v=[]\n",
    "o=[]\n",
    "print(data.loc[[1,2]])\n",
    "for i in data.index :\n",
    "    if data['title_field'][i]==\"Occupied Housing Units\" :\n",
    "        o.append(data['value'][i])\n",
    "    if data['title_field'][i]==\"Vacant Housing Units\" :\n",
    "        v.append(data['value'][i])\n",
    "        \n",
    "        \n",
    "        \n",
    "k=2014\n",
    "l=[]\n",
    "for i in range(len(o)-1) :\n",
    "    print(k-i,'-',k-i-1,o[i]-o[i+1])\n",
    "    l.append(abs(o[i]-o[i+1]))\n",
    "print(\"\\n\")\n",
    "print(\"The difference in Ascending order is: \")\n",
    "for i in range(len(l)):\n",
    "    m1=l.index(min(l))\n",
    "    print(k-m1,'-',k-m1,min(l))\n",
    "    l[m1]=100000\n",
    "print(\"    \", 'Occupied',\"               \",'Vacant' )\n",
    "for i in range(len(o)) :\n",
    "    h= o[i] + v[i]\n",
    "    op= (o[i]/h) * 100\n",
    "    vp= (v[i]/h) * 100\n",
    "    \n",
    "    print (k-i,op,'%',vp,\"%\")\n",
    "print(\"                      \",\"Year\",\"Value\")\n",
    "ho=max(o)\n",
    "hoi=o.index(ho)\n",
    "print(\"Occupied Housing Units\",ho,k-hoi)\n",
    "hv=max(v)\n",
    "hvi=v.index(hv)\n",
    "print(\"Vacant Housing Units\" , hv, k-hvi)\n",
    "\n",
    "\n",
    "    \n",
    "    "
   ]
  },
  {
   "cell_type": "code",
   "execution_count": 6,
   "metadata": {},
   "outputs": [
    {
     "name": "stdout",
     "output_type": "stream",
     "text": [
      "Harmonic mean of total Housing units is \n",
      "44398.28543969185\n"
     ]
    }
   ],
   "source": [
    "\n",
    "print(\"Harmonic mean of total Housing units is \")   \n",
    "harmeanlist=[]\n",
    "for i in range(len(o)) :\n",
    "    harmeanlist.append(o[i]+v[i])\n",
    "print(statistics.harmonic_mean(harmeanlist))\n"
   ]
  }
 ],
 "metadata": {
  "colab": {
   "authorship_tag": "ABX9TyOAjsNCkNulTpzgRQbHdy3f",
   "collapsed_sections": [],
   "include_colab_link": true,
   "name": "INFO5731_Assignment_One.ipynb",
   "provenance": []
  },
  "kernelspec": {
   "display_name": "Python 3 (ipykernel)",
   "language": "python",
   "name": "python3"
  },
  "language_info": {
   "codemirror_mode": {
    "name": "ipython",
    "version": 3
   },
   "file_extension": ".py",
   "mimetype": "text/x-python",
   "name": "python",
   "nbconvert_exporter": "python",
   "pygments_lexer": "ipython3",
   "version": "3.9.7"
  }
 },
 "nbformat": 4,
 "nbformat_minor": 1
}
